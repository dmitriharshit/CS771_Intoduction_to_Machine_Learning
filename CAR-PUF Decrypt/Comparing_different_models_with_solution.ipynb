{
  "nbformat": 4,
  "nbformat_minor": 0,
  "metadata": {
    "colab": {
      "private_outputs": true,
      "provenance": [],
      "gpuType": "T4"
    },
    "kernelspec": {
      "name": "python3",
      "display_name": "Python 3"
    },
    "language_info": {
      "name": "python"
    }
  },
  "cells": [
    {
      "cell_type": "code",
      "source": [
        "import numpy as np\n",
        "import sklearn\n",
        "from scipy.linalg import khatri_rao\n",
        "from sklearn.svm import LinearSVC\n",
        "from sklearn.metrics import confusion_matrix\n",
        "from sklearn.metrics import accuracy_score\n",
        "from sklearn.linear_model import LogisticRegression\n",
        "from sklearn.linear_model import Ridge\n",
        "import sys\n",
        "import time"
      ],
      "metadata": {
        "id": "usVaKam8UOMA"
      },
      "execution_count": null,
      "outputs": []
    },
    {
      "cell_type": "code",
      "source": [
        "from google.colab import drive\n",
        "drive.mount('/content/drive')"
      ],
      "metadata": {
        "id": "-IVIloxUX1aA"
      },
      "execution_count": null,
      "outputs": []
    },
    {
      "cell_type": "code",
      "source": [
        "\n",
        "def ReadDataFromFile(path):\n",
        "\n",
        "  # Read data from file into a NumPy array\n",
        "  data = np.loadtxt(path,dtype=\"int\")\n",
        "\n",
        "  # Extract features (first 32 columns) and targets (last column)\n",
        "  features = data[:, :32]\n",
        "  targets = data[:, 32]\n",
        "\n",
        "  return features,targets\n",
        "\n",
        "path1='/content/drive/MyDrive/CS771/Assign1/train.dat'\n",
        "path2='/content/drive/MyDrive/CS771/Assign1/test.dat'\n",
        "X_train,y_train = ReadDataFromFile(path1)\n",
        "X_test,y_test = ReadDataFromFile(path2)"
      ],
      "metadata": {
        "id": "VWWJB0lF1EaJ"
      },
      "execution_count": null,
      "outputs": []
    },
    {
      "cell_type": "code",
      "source": [
        "X_train[0]"
      ],
      "metadata": {
        "id": "xtbLjTIs1Z8H"
      },
      "execution_count": null,
      "outputs": []
    },
    {
      "cell_type": "code",
      "source": [
        "print(X_train.shape)\n",
        "print(y_train.shape)\n",
        "print(X_test.shape)\n",
        "print(y_test.shape)"
      ],
      "metadata": {
        "id": "PlDRXV29afGv"
      },
      "execution_count": null,
      "outputs": []
    },
    {
      "cell_type": "code",
      "source": [
        "d_train = 1-2*X_train  # for every training challenge bit, calculate (1-2ci)\n",
        "d_test = 1-2*X_test    # for every testing challenge bit, calculate (1-2ci)\n",
        "print(d_train.shape)\n",
        "print(d_test.shape)\n"
      ],
      "metadata": {
        "id": "VAa4iwPlauKP"
      },
      "execution_count": null,
      "outputs": []
    },
    {
      "cell_type": "code",
      "source": [],
      "metadata": {
        "id": "BEqeCuTmXNeX"
      },
      "execution_count": null,
      "outputs": []
    },
    {
      "cell_type": "code",
      "source": [
        "print(d_train[0])\n",
        "print(d_test[0])"
      ],
      "metadata": {
        "id": "ctYgmbghYojS"
      },
      "execution_count": null,
      "outputs": []
    },
    {
      "cell_type": "code",
      "source": [
        "# X = [[1 for _ in range(d.shape[0]) ] for _ in range(d.shape[1])]\n",
        "# for i in range(d.shape[0]):\n",
        "#   for j in range(d.shape[1]-1,-1,-1):\n",
        "#     if(j==31):\n",
        "#       X[i][j]=d[i][j]\n",
        "#     else:\n",
        "#       X[i][j] = X[i][j-1] * d[i][j]"
      ],
      "metadata": {
        "id": "jFDGDBfOiFTX"
      },
      "execution_count": null,
      "outputs": []
    },
    {
      "cell_type": "code",
      "source": [
        "def makex(d):\n",
        "  return np.fliplr(np.cumprod(np.fliplr(d), axis=1))\n",
        "  # # # Initialize X as an empty list\n",
        "  # # x = []\n",
        "\n",
        "  # # # Loop through each row of d\n",
        "  # # for row in d:\n",
        "  # #     # Initialize temp as an empty list for each row\n",
        "  # #     temp = []\n",
        "  # #     # Loop through the first 32 elements of each row\n",
        "  # #     for j in range(32):\n",
        "  # #         # Calculate the product of the first 32 elements of each row using numpy's prod function\n",
        "  # #         t = np.prod(row[j:j+32])\n",
        "  # #         # Append the result to temp\n",
        "  # #         temp.append(t)\n",
        "  # #     # Append temp to X\n",
        "  # #     x.append(temp)\n",
        "\n",
        "  # # Convert X to a numpy array\n",
        "  # x = np.array(x)\n",
        "  # return x\n",
        "\n",
        "x_train=makex(d_train)\n",
        "x_test=makex(d_test)"
      ],
      "metadata": {
        "id": "pgofHe4RsW3W"
      },
      "execution_count": null,
      "outputs": []
    },
    {
      "cell_type": "code",
      "source": [
        "print(x_train.shape)\n",
        "print(x_test.shape)\n",
        "print(x_train[0].shape)\n",
        "print(x_test[0].shape)"
      ],
      "metadata": {
        "id": "CuwO-C1Vhf6d"
      },
      "execution_count": null,
      "outputs": []
    },
    {
      "cell_type": "code",
      "source": [
        "x_train[0]"
      ],
      "metadata": {
        "id": "-Dq27J7Kv6Eq"
      },
      "execution_count": null,
      "outputs": []
    },
    {
      "cell_type": "code",
      "source": [
        "\n",
        "\n",
        "def makenew(X):\n",
        "\n",
        "  X_new=[]\n",
        "  for i in range(X.shape[0]):\n",
        "    temp=[]\n",
        "    for j in range(32):\n",
        "      for k in range(j,32):\n",
        "        if(j==k): temp.append(X[i][j])\n",
        "        else: temp.append(X[i][j]*X[i][k])\n",
        "    X_new.append(temp)\n",
        "  X_new=np.array(X_new)\n",
        "  return X_new\n",
        "\n",
        "X_new_train = makenew(x_train)\n",
        "X_new_test = makenew(x_test)"
      ],
      "metadata": {
        "id": "7bUIFSDSiOLL"
      },
      "execution_count": null,
      "outputs": []
    },
    {
      "cell_type": "code",
      "source": [
        "print(X_new_train.shape)\n",
        "# print(X_new_test.shape)"
      ],
      "metadata": {
        "id": "kh_NXopvmBij"
      },
      "execution_count": null,
      "outputs": []
    },
    {
      "cell_type": "code",
      "source": [
        "y_train=np.ravel(y_train)\n",
        "y_test=np.ravel(y_test)"
      ],
      "metadata": {
        "id": "Dlv8UdrCzOU1"
      },
      "execution_count": null,
      "outputs": []
    },
    {
      "cell_type": "code",
      "source": [
        "model = LinearSVC()"
      ],
      "metadata": {
        "id": "Jp11HYoTtdBY"
      },
      "execution_count": null,
      "outputs": []
    },
    {
      "cell_type": "code",
      "source": [
        "model.fit(X_new_train, y_train)"
      ],
      "metadata": {
        "id": "5m7mAGmUuUc3"
      },
      "execution_count": null,
      "outputs": []
    },
    {
      "cell_type": "code",
      "source": [
        "predictions =  model.predict(X_new_test)\n",
        "accuracy_score(y_test, predictions)"
      ],
      "metadata": {
        "id": "TsZi7fX1um_X"
      },
      "execution_count": null,
      "outputs": []
    },
    {
      "cell_type": "code",
      "source": [
        "model2=LogisticRegression()"
      ],
      "metadata": {
        "id": "7nLONDpp4GRu"
      },
      "execution_count": null,
      "outputs": []
    },
    {
      "cell_type": "code",
      "source": [
        "model2.fit(X_new_train,y_train)"
      ],
      "metadata": {
        "id": "LuWLvKbl4GOd"
      },
      "execution_count": null,
      "outputs": []
    },
    {
      "cell_type": "code",
      "source": [
        "predictions2 = model2.predict(X_new_test)\n",
        "accuracy_score(y_test, predictions2)"
      ],
      "metadata": {
        "id": "FgofEf4z4GHW"
      },
      "execution_count": null,
      "outputs": []
    },
    {
      "cell_type": "code",
      "source": [
        "#comparisions\n",
        "\n",
        "#changing loss hyperparameter\n",
        "loss = ['squared_hinge', 'hinge']\n",
        "time_taken_loss = []\n",
        "accuracy_score_loss = []\n",
        "for (i,l) in enumerate(loss):\n",
        "  print(i, l)\n",
        "  if i:\n",
        "    model  = LinearSVC(penalty = 'l2', loss = l)\n",
        "  tic = time.perf_counter()\n",
        "  model.fit(X_new_train, y_train)\n",
        "  toc = time.perf_counter()\n",
        "  time_taken = toc - tic\n",
        "  time_taken_loss.append(time_taken)\n",
        "  predictions =  model.predict(X_new_test)\n",
        "  acc_score = accuracy_score(y_test, predictions)\n",
        "  accuracy_score_loss.append(acc_score)\n"
      ],
      "metadata": {
        "id": "4MU2LVxq8cHG"
      },
      "execution_count": null,
      "outputs": []
    },
    {
      "cell_type": "code",
      "source": [
        "print(time_taken_loss)\n",
        "print(accuracy_score_loss)"
      ],
      "metadata": {
        "id": "ck68puwWlkKI"
      },
      "execution_count": null,
      "outputs": []
    },
    {
      "cell_type": "code",
      "source": [
        "high = 10.0\n",
        "med = 1.0\n",
        "low = 0.1\n",
        "#setting low, medium and high values of C\n",
        "time_taken_c_linearSVC = []\n",
        "accuracy_score_c_linearSVC = []\n",
        "\n",
        "time_taken_c_LogisticRegression = []\n",
        "accuracy_score_c_LogisticRegression = []\n",
        "\n",
        "c_val = [pow(10,x) for x in range(-6,7)]\n",
        "\n",
        "for c in c_val:\n",
        "  model1 = LinearSVC(C=c)\n",
        "\n",
        "  tic = time.perf_counter()\n",
        "  model1.fit(X_new_train, y_train)\n",
        "  toc = time.perf_counter()\n",
        "  time_taken = toc - tic\n",
        "  time_taken_c_linearSVC.append(time_taken)\n",
        "  predictions =  model1.predict(X_new_test)\n",
        "  acc_score = accuracy_score(y_test, predictions)\n",
        "  accuracy_score_c_linearSVC.append(acc_score)\n",
        "\n",
        "for c in c_val:\n",
        "  model2=LogisticRegression( C = c)\n",
        "\n",
        "  tic = time.perf_counter()\n",
        "  model2.fit(X_new_train, y_train)\n",
        "  toc = time.perf_counter()\n",
        "  time_taken = toc - tic\n",
        "  time_taken_c_LogisticRegression.append(time_taken)\n",
        "  predictions =  model2.predict(X_new_test)\n",
        "  acc_score = accuracy_score(y_test, predictions)\n",
        "  accuracy_score_c_LogisticRegression.append(acc_score)\n"
      ],
      "metadata": {
        "id": "1QI3CxnC8cDj"
      },
      "execution_count": null,
      "outputs": []
    },
    {
      "cell_type": "code",
      "source": [
        "import matplotlib.pyplot as plt\n",
        "import numpy as np\n",
        "\n",
        "# Define colors for each point\n",
        "colors = plt.cm.viridis(np.linspace(0, 1, len(c_val)))  # Use viridis colormap\n",
        "\n",
        "# Create a figure and subplots with specified size and space between them\n",
        "fig, (ax1, ax2) = plt.subplots(1, 2, figsize=(12, 6), gridspec_kw={'wspace': 0.5})  # Adjust the width and height as needed\n",
        "\n",
        "# Plot data on the first subplot with log scale x-axis\n",
        "ax1.plot(c_val, time_taken_c_linearSVC, color='blue', linestyle='-')\n",
        "for i in range(len(c_val)):\n",
        "    ax1.scatter(c_val[i], time_taken_c_linearSVC[i], color=colors[i], label=f'C: {c_val[i]:.1e} Time: {round(time_taken_c_linearSVC[i], 2)}sec')\n",
        "ax1.set_xlabel('C Value (log scale)')\n",
        "ax1.set_ylabel('Time Taken (seconds)')\n",
        "ax1.set_title('Time Taken vs. C Value (linearSVC)')\n",
        "ax1.set_xscale('log')\n",
        "ax1.grid(True)  # Show gridlines\n",
        "ax1.legend(loc='lower right',fontsize='small')\n",
        "\n",
        "# Plot data on the second subplot with log scale x-axis\n",
        "ax2.plot(c_val, accuracy_score_c_linearSVC, color='blue', linestyle='-')\n",
        "for i in range(len(c_val)):\n",
        "    ax2.scatter(c_val[i], accuracy_score_c_linearSVC[i], color=colors[i], label=f'C: {c_val[i]:.1e}, Accuracy: {round(accuracy_score_c_linearSVC[i]*100,2)}%')\n",
        "ax2.set_xlabel('C Value (log scale)')\n",
        "ax2.set_ylabel('Accuracy Score')\n",
        "ax2.set_title('Accuracy Score vs. C Value (linearSVC)')\n",
        "ax2.set_xscale('log')\n",
        "ax2.grid(True)  # Show gridlines\n",
        "ax2.legend(loc='lower right',fontsize='small')\n",
        "\n",
        "# Adjust layout to prevent overlap\n",
        "plt.tight_layout()\n",
        "\n",
        "# Show the plot\n",
        "plt.show()\n"
      ],
      "metadata": {
        "id": "WogwaGVq5pVX"
      },
      "execution_count": null,
      "outputs": []
    },
    {
      "cell_type": "code",
      "source": [
        "import matplotlib.pyplot as plt\n",
        "import numpy as np\n",
        "\n",
        "# Define colors for each point\n",
        "colors = plt.cm.viridis(np.linspace(0, 1, len(c_val)))  # Use viridis colormap\n",
        "\n",
        "# Create a figure and subplots with specified size and space between them\n",
        "fig, (ax1, ax2) = plt.subplots(1, 2, figsize=(12, 6), gridspec_kw={'wspace': 0.5})  # Adjust the width and height as needed\n",
        "\n",
        "# Plot data on the first subplot with log scale x-axis\n",
        "ax1.plot(c_val, time_taken_c_LogisticRegression, color='blue', linestyle='-')\n",
        "for i in range(len(c_val)):\n",
        "    ax1.scatter(c_val[i], time_taken_c_LogisticRegression[i], color=colors[i], label=f'C: {c_val[i]:.1e} Time: {round(time_taken_c_LogisticRegression[i], 2)}sec')\n",
        "ax1.set_xlabel('C Value (log scale)')\n",
        "ax1.set_ylabel('Time Taken (seconds)')\n",
        "ax1.set_title('Time Taken vs. C Value (LogisticRegression)')\n",
        "ax1.set_xscale('log')\n",
        "ax1.grid(True)  # Show gridlines\n",
        "ax1.legend(loc='upper left',fontsize='small')\n",
        "\n",
        "# Plot data on the second subplot with log scale x-axis\n",
        "ax2.plot(c_val, accuracy_score_c_LogisticRegression, color='blue', linestyle='-')\n",
        "for i in range(len(c_val)):\n",
        "    ax2.scatter(c_val[i], accuracy_score_c_LogisticRegression[i], color=colors[i], label=f'C: {c_val[i]:.1e}, Accuracy: {round(accuracy_score_c_LogisticRegression[i]*100,2)}%')\n",
        "ax2.set_xlabel('C Value (log scale)')\n",
        "ax2.set_ylabel('Accuracy Score')\n",
        "ax2.set_title('Accuracy Score vs. C Value (LogisticRegression)')\n",
        "ax2.set_xscale('log')\n",
        "ax2.grid(True)  # Show gridlines\n",
        "ax2.legend(loc='lower right',fontsize='small')\n",
        "\n",
        "# Adjust layout to prevent overlap\n",
        "plt.tight_layout()\n",
        "\n",
        "# Show the plot\n",
        "plt.show()\n"
      ],
      "metadata": {
        "id": "Vw-ZnoU12APQ"
      },
      "execution_count": null,
      "outputs": []
    },
    {
      "cell_type": "code",
      "source": [
        "print(time_taken_c_linearSVC)\n",
        "print(accuracy_score_c_linearSVC)\n",
        "print(time_taken_c_LogisticRegression)\n",
        "print(accuracy_score_c_LogisticRegression)"
      ],
      "metadata": {
        "id": "96_4XCCjpfkM"
      },
      "execution_count": null,
      "outputs": []
    },
    {
      "cell_type": "code",
      "source": [
        "#changing tol value :\n",
        "\n",
        "tol_val = [pow(10,x) for x in range(-7,5)]\n",
        "time_taken_tol_linearSVC = []\n",
        "accuracy_score_tol_linearSVC = []\n",
        "time_taken_tol_LogisticRegression = []\n",
        "accuracy_score_tol_LogisticRegression = []\n",
        "\n",
        "for tol in tol_val:\n",
        "  model1 = LinearSVC(tol = tol)\n",
        "\n",
        "  tic = time.perf_counter()\n",
        "  model1.fit(X_new_train, y_train)\n",
        "  toc = time.perf_counter()\n",
        "  time_taken = toc - tic\n",
        "  time_taken_tol_linearSVC.append(time_taken)\n",
        "\n",
        "  predictions =  model1.predict(X_new_test)\n",
        "  acc_score = accuracy_score(y_test, predictions)\n",
        "  accuracy_score_tol_linearSVC.append(acc_score)\n",
        "\n",
        "for tol in tol_val:\n",
        "  model2= LogisticRegression(tol = tol)\n",
        "\n",
        "  tic = time.perf_counter()\n",
        "  model2.fit(X_new_train, y_train)\n",
        "  toc = time.perf_counter()\n",
        "  time_taken = toc - tic\n",
        "  time_taken_tol_LogisticRegression.append(time_taken)\n",
        "\n",
        "  predictions =  model2.predict(X_new_test)\n",
        "  acc_score = accuracy_score(y_test, predictions)\n",
        "  accuracy_score_tol_LogisticRegression.append(acc_score)\n"
      ],
      "metadata": {
        "id": "HwqrZUTR8cBS"
      },
      "execution_count": null,
      "outputs": []
    },
    {
      "cell_type": "code",
      "source": [
        "import matplotlib.pyplot as plt\n",
        "import numpy as np\n",
        "\n",
        "# Define colors for each point\n",
        "colors = plt.cm.viridis(np.linspace(0, 1, len(tol_val)))  # Use viridis colormap\n",
        "\n",
        "# Create a figure and subplots with specified size and space between them\n",
        "fig, (ax1, ax2) = plt.subplots(1, 2, figsize=(12, 6), gridspec_kw={'wspace': 0.5})  # Adjust the width and height as needed\n",
        "\n",
        "# Plot data on the first subplot with log scale x-axis\n",
        "ax1.plot(tol_val, time_taken_tol_LogisticRegression, color='blue', linestyle='-')\n",
        "for i in range(len(tol_val)):\n",
        "    ax1.scatter(tol_val[i], time_taken_tol_LogisticRegression[i], color=colors[i], label=f'Tol: {tol_val[i]:.1e} Time: {round(time_taken_tol_LogisticRegression[i], 2)}sec')\n",
        "ax1.set_xlabel('Tolerance Value (log scale)')\n",
        "ax1.set_ylabel('Time Taken (seconds)')\n",
        "ax1.set_title('Time Taken vs. Tolerance Value (LogisticRegression)')\n",
        "ax1.set_xscale('log')\n",
        "ax1.grid(True)  # Show gridlines\n",
        "ax1.legend(loc='lower left',fontsize='small')\n",
        "\n",
        "# Plot data on the second subplot with log scale x-axis\n",
        "ax2.plot(tol_val, accuracy_score_tol_LogisticRegression, color='blue', linestyle='-')\n",
        "for i in range(len(tol_val)):\n",
        "    ax2.scatter(tol_val[i], accuracy_score_tol_LogisticRegression[i], color=colors[i], label=f'Tol: {tol_val[i]:.1e}, Accuracy: {round(accuracy_score_tol_LogisticRegression[i]*100,2)}%')\n",
        "ax2.set_xlabel('Tolerance Value (log scale)')\n",
        "ax2.set_ylabel('Accuracy Score')\n",
        "ax2.set_title('Accuracy Score vs. Tolerance Value (LogisticRegression)')\n",
        "ax2.set_xscale('log')\n",
        "ax2.grid(True)  # Show gridlines\n",
        "ax2.legend(loc='lower left',fontsize='small')\n",
        "\n",
        "# Adjust layout to prevent overlap\n",
        "plt.tight_layout()\n",
        "\n",
        "# Show the plot\n",
        "plt.show()\n"
      ],
      "metadata": {
        "id": "oUZkjkhty8EZ"
      },
      "execution_count": null,
      "outputs": []
    },
    {
      "cell_type": "code",
      "source": [
        "import matplotlib.pyplot as plt\n",
        "import numpy as np\n",
        "\n",
        "# Define colors for each point\n",
        "colors = plt.cm.viridis(np.linspace(0, 1, len(tol_val)))  # Use viridis colormap\n",
        "\n",
        "# Create a figure and subplots with specified size and space between them\n",
        "fig, (ax1, ax2) = plt.subplots(1, 2, figsize=(12, 6), gridspec_kw={'wspace': 0.5})  # Adjust the width and height as needed\n",
        "\n",
        "# Plot data on the first subplot with log scale x-axis\n",
        "ax1.plot(tol_val, time_taken_tol_linearSVC, color='blue', linestyle='-')\n",
        "for i in range(len(tol_val)):\n",
        "    ax1.scatter(tol_val[i], time_taken_tol_linearSVC[i], color=colors[i], label=f'Tol: {tol_val[i]:.1e} Time: {round(time_taken_tol_linearSVC[i], 2)}sec')\n",
        "ax1.set_xlabel('Tolerance Value (log scale)')\n",
        "ax1.set_ylabel('Time Taken (seconds)')\n",
        "ax1.set_title('Time Taken vs. Tolerance Value (LinearSVC)')\n",
        "ax1.set_xscale('log')\n",
        "ax1.grid(True)  # Show gridlines\n",
        "ax1.legend(loc='lower left',fontsize='small')\n",
        "\n",
        "# Plot data on the second subplot with log scale x-axis\n",
        "ax2.plot(tol_val, accuracy_score_tol_linearSVC, color='blue', linestyle='-')\n",
        "for i in range(len(tol_val)):\n",
        "    ax2.scatter(tol_val[i], accuracy_score_tol_linearSVC[i], color=colors[i], label=f'Tol: {tol_val[i]:.1e}, Accuracy: {round(accuracy_score_tol_linearSVC[i]*100,2)}%')\n",
        "ax2.set_xlabel('Tolerance Value (log scale)')\n",
        "ax2.set_ylabel('Accuracy Score')\n",
        "ax2.set_title('Accuracy Score vs. Tolerance Value (LinearSVC)')\n",
        "ax2.set_xscale('log')\n",
        "ax2.grid(True)  # Show gridlines\n",
        "ax2.legend(loc='lower left',fontsize='small')\n",
        "\n",
        "# Adjust layout to prevent overlap\n",
        "plt.tight_layout()\n",
        "\n",
        "# Show the plot\n",
        "plt.show()\n"
      ],
      "metadata": {
        "id": "xhFVKG8B-zWG"
      },
      "execution_count": null,
      "outputs": []
    },
    {
      "cell_type": "code",
      "source": [
        "# Create a figure and subplots\n",
        "fig, (ax1, ax2) = plt.subplots(1, 2 , figsize=(12, 6) , gridspec_kw={'wspace': 0.5})\n",
        "\n",
        "# Plot data on the first subplot\n",
        "ax1.plot(tol_val, time_taken_tol_linearSVC)\n",
        "ax1.set_xlabel('X axis')\n",
        "ax1.set_ylabel('tols')\n",
        "ax1.set_xscale('log')\n",
        "ax1.set_title('Time for Linear SVC at different tols')\n",
        "ax1.grid(True)\n",
        "\n",
        "# Plot data on the second subplot\n",
        "ax2.plot(tol_val, accuracy_score_tol_linearSVC)\n",
        "ax2.set_xscale('log')\n",
        "ax2.set_xlabel('tols')\n",
        "ax2.set_ylabel('Accuracy')\n",
        "ax2.set_title('Accuracy for Linear SVC at different tols')\n",
        "ax2.grid(True)\n",
        "\n",
        "# Adjust layout to prevent\n",
        "plt.tight_layout()\n",
        "\n",
        "plt.show()"
      ],
      "metadata": {
        "id": "8syZm5A-zUdH"
      },
      "execution_count": null,
      "outputs": []
    },
    {
      "cell_type": "code",
      "source": [
        "print(time_taken_tol_linearSVC)\n",
        "print(accuracy_score_tol_linearSVC)\n",
        "print(time_taken_tol_LogisticRegression)\n",
        "print(accuracy_score_tol_LogisticRegression)"
      ],
      "metadata": {
        "id": "zdMQ-rFbunI1"
      },
      "execution_count": null,
      "outputs": []
    },
    {
      "cell_type": "code",
      "source": [
        "\n",
        "#changing the penalty :\n",
        "\n",
        "pen = ['l1', 'l2']\n",
        "\n",
        "time_taken_pen_linearSVC = []\n",
        "accuracy_score_pen_linearSVC = []\n",
        "time_taken_pen_LogisticRegression = []\n",
        "accuracy_score_pen_LogisticRegression = []\n",
        "\n",
        "for i,penalty in enumerate(pen):\n",
        "  model1 = LinearSVC(dual = False, penalty = penalty)\n",
        "  tic = time.perf_counter()\n",
        "  model1.fit(X_new_train, y_train)\n",
        "  toc = time.perf_counter()\n",
        "  time_taken = toc - tic\n",
        "  time_taken_pen_linearSVC.append(time_taken)\n",
        "\n",
        "  predictions =  model1.predict(X_new_test)\n",
        "  acc_score = accuracy_score(y_test, predictions)\n",
        "  accuracy_score_pen_linearSVC.append(acc_score)\n",
        "\n",
        "for i,penalty in enumerate(pen):\n",
        "  model2 = LogisticRegression(penalty = penalty, solver = 'liblinear')\n",
        "  tic = time.perf_counter()\n",
        "  model2.fit(X_new_train, y_train)\n",
        "  toc = time.perf_counter()\n",
        "  time_taken = toc - tic\n",
        "  time_taken_pen_LogisticRegression.append(time_taken)\n",
        "\n",
        "  predictions =  model2.predict(X_new_test)\n",
        "  acc_score = accuracy_score(y_test, predictions)\n",
        "  accuracy_score_pen_LogisticRegression.append(acc_score)\n"
      ],
      "metadata": {
        "id": "jB7qNJrCyNpN"
      },
      "execution_count": null,
      "outputs": []
    },
    {
      "cell_type": "code",
      "source": [
        "print(time_taken_pen_linearSVC)\n",
        "print(accuracy_score_pen_linearSVC)\n",
        "print(time_taken_pen_LogisticRegression)\n",
        "print(accuracy_score_pen_LogisticRegression)"
      ],
      "metadata": {
        "id": "8_QmxyzxyGlt"
      },
      "execution_count": null,
      "outputs": []
    },
    {
      "cell_type": "code",
      "source": [
        "\n",
        "# You are allowed to import any submodules of sklearn that learn linear models e.g. sklearn.svm etc\n",
        "# You are not allowed to use other libraries such as keras, tensorflow etc\n",
        "# You are not allowed to use any scipy routine other than khatri_rao\n",
        "\n",
        "# SUBMIT YOUR CODE AS A SINGLE PYTHON (.PY) FILE INSIDE A ZIP ARCHIVE\n",
        "# THE NAME OF THE PYTHON FILE MUST BE submit.py\n",
        "\n",
        "# DO NOT CHANGE THE NAME OF THE METHODS my_fit, my_map etc BELOW\n",
        "# THESE WILL BE INVOKED BY THE EVALUATION SCRIPT. CHANGING THESE NAMES WILL CAUSE EVALUATION FAILURE\n",
        "\n",
        "# You may define any new functions, variables, classes here\n",
        "# For example, functions to calculate next coordinate or step length\n",
        "\n",
        "################################\n",
        "# Non Editable Region Starting #\n",
        "################################\n",
        "def my_fit( X_train, y_train ):\n",
        "################################\n",
        "#  Non Editable Region Ending  #\n",
        "################################\n",
        "\n",
        "\t# Use this method to train your model using training CRPs\n",
        "\t# X_train has 32 columns containing the challeenge bits\n",
        "\t# y_train contains the responses\n",
        "\n",
        "\t# THE RETURNED MODEL SHOULD BE A SINGLE VECTOR AND A BIAS TERM\n",
        "\t# If you do not wish to use a bias term, set it to 0\n",
        "\treturn w, b\n",
        "\n",
        "\n",
        "################################\n",
        "# Non Editable Region Starting #\n",
        "################################\n",
        "def my_map( X ):\n",
        "################################\n",
        "#  Non Editable Region Ending  #\n",
        "################################\n",
        "\n",
        "\t# Use this method to create features.\n",
        "\t# It is likely that my_fit will internally call my_map to create features for train points\n",
        "\n",
        "\treturn feat\n"
      ],
      "metadata": {
        "id": "WcS_zeoOyJk9"
      },
      "execution_count": null,
      "outputs": []
    }
  ]
}